{
 "cells": [
  {
   "cell_type": "markdown",
   "metadata": {},
   "source": [
    "# 🚀 CI/CD Pipeline for .NET RAG App using Azure DevOps\n",
    "\n",
    "This notebook provides a detailed walkthrough of setting up an end-to-end **CI/CD pipeline using Azure DevOps** for a containerized **.NET + Blazor RAG system**.\n",
    "\n",
    "We cover:\n",
    "- YAML pipeline definition\n",
    "- Build & test stages\n",
    "- Docker image build & publish to Azure Container Registry (ACR)\n",
    "- Kubernetes or App Service deployment (optional)"
   ]
  },
  {
   "cell_type": "markdown",
   "metadata": {},
   "source": [
    "## 📁 Project Structure Overview\n",
    "```bash\n",
    "rag-app/\n",
    "├── RAGWeb/                # .NET Blazor project\n",
    "├── Dockerfile             # Dockerfile for app\n",
    "├── docker-compose.yml\n",
    "└── azure-pipelines.yml    # CI/CD pipeline (see below)\n",
    "```"
   ]
  },
  {
   "cell_type": "markdown",
   "metadata": {},
   "source": [
    "## 🧾 azure-pipelines.yml\n",
    "Place this in your project root as `azure-pipelines.yml`.\n",
    "Ensure your Azure DevOps project is connected to your Git repo and ACR."
   ]
  },
  {
   "cell_type": "code",
   "execution_count": null,
   "metadata": {},
   "outputs": [],
   "source": [
    "trigger:\n",
    "  branches:\n",
    "    include:\n",
    "      - main\n",
    "\n",
    "variables:\n",
    "  dockerRegistryServiceConnection: 'YOUR_ACR_SERVICE_CONNECTION'\n",
    "  imageRepository: 'ragweb'\n",
    "  containerRegistry: 'youracr.azurecr.io'\n",
    "  dockerfilePath: 'Dockerfile'\n",
    "  tag: '$(Build.BuildId)'\n",
    "\n",
    "stages:\n",
    "- stage: Build\n",
    "  jobs:\n",
    "  - job: Build\n",
    "    pool:\n",
    "      vmImage: 'ubuntu-latest'\n",
    "    steps:\n",
    "    - task: UseDotNet@2\n",
    "      inputs:\n",
    "        packageType: 'sdk'\n",
    "        version: '7.0.x'\n",
    "    \n",
    "    - task: DotNetCoreCLI@2\n",
    "      displayName: 'Restore NuGet'\n",
    "      inputs:\n",
    "        command: 'restore'\n",
    "        projects: '**/*.csproj'\n",
    "\n",
    "    - task: DotNetCoreCLI@2\n",
    "      displayName: 'Build'\n",
    "      inputs:\n",
    "        command: 'build'\n",
    "        arguments: '--configuration Release'\n",
    "\n",
    "    - task: DotNetCoreCLI@2\n",
    "      displayName: 'Test'\n",
    "      inputs:\n",
    "        command: 'test'\n",
    "        projects: '**/*Tests.csproj'\n"
   ]
  },
  {
   "cell_type": "code",
   "execution_count": null,
   "metadata": {},
   "outputs": [],
   "source": [
    "- stage: Deploy\n",
    "  jobs:\n",
    "  - job: DockerBuildAndPush\n",
    "    displayName: 'Build and Push Docker Image'\n",
    "    pool:\n",
    "      vmImage: 'ubuntu-latest'\n",
    "    steps:\n",
    "    - task: Docker@2\n",
    "      displayName: 'Build and Push'\n",
    "      inputs:\n",
    "        command: 'buildAndPush'\n",
    "        repository: '$(imageRepository)'\n",
    "        dockerfile: '$(dockerfilePath)'\n",
    "        containerRegistry: '$(dockerRegistryServiceConnection)'\n",
    "        tags: 'latest,$(tag)'\n"
   ]
  },
  {
   "cell_type": "markdown",
   "metadata": {},
   "source": [
    "## 🌐 Optional: Azure App Service or AKS Deployment\n",
    "\n",
    "You can add a third stage to deploy to:\n",
    "- Azure Kubernetes Service (AKS)\n",
    "- Azure App Service for Containers\n",
    "\n",
    "**For AKS**: Use `kubectl apply -f k8s.yaml` in a Bash task\n",
    "**For App Service**: Use `AzureWebAppContainer@1` task"
   ]
  },
  {
   "cell_type": "markdown",
   "metadata": {},
   "source": [
    "## 🔐 Secure Secrets\n",
    "- Use Azure DevOps **Library** to store secrets like `OPENAI_API_KEY`\n",
    "- Reference them in pipeline with `env:` or `--build-arg`\n",
    "- For App Service: Use Configuration Settings (App Settings)\n",
    "- For AKS: Use Kubernetes secrets or Azure Key Vault integration"
   ]
  }
 ],
 "metadata": {
  "kernelspec": {
   "display_name": "Python 3 (ipykernel)",
   "language": "python",
   "name": "python3"
  },
  "language_info": {
   "codemirror_mode": {
    "name": "ipython",
    "version": 3
   },
   "file_extension": ".py",
   "mimetype": "text/x-python",
   "name": "python",
   "nbconvert_exporter": "python",
   "pygments_lexer": "ipython3",
   "version": "3.13.2"
  }
 },
 "nbformat": 4,
 "nbformat_minor": 4
}
