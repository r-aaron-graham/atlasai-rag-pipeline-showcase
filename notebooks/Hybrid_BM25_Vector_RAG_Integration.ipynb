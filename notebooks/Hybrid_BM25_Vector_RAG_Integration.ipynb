{
 "cells": [
  {
   "cell_type": "markdown",
   "metadata": {},
   "source": [
    "# 🔍 Hybrid Search for RAG Pipelines: BM25 + Vector Similarity\n",
    "\n",
    "This notebook demonstrates **hybrid search** that combines:\n",
    "- **BM25 sparse retrieval** for keyword relevance\n",
    "- **Vector-based retrieval** for semantic understanding\n",
    "\n",
    "By combining these methods, we improve recall and precision in document retrieval for RAG systems.\n",
    "\n",
    "📦 Required packages: `rank_bm25`, `faiss-cpu`, `openai`, `nltk`, `tiktoken`"
   ]
  },
  {
   "cell_type": "code",
   "execution_count": null,
   "metadata": {},
   "outputs": [],
   "source": [
    "# !pip install rank_bm25 faiss-cpu openai nltk tiktoken"
   ]
  },
  {
   "cell_type": "markdown",
   "metadata": {},
   "source": [
    "## 🧹 1. Preprocessing: Tokenize & Chunk the Documents"
   ]
  },
  {
   "cell_type": "code",
   "execution_count": null,
   "metadata": {},
   "outputs": [],
   "source": [
    "import nltk\n",
    "nltk.download('punkt')\n",
    "from nltk.tokenize import word_tokenize\n",
    "import tiktoken\n",
    "\n",
    "def chunk_text(text, max_tokens=300):\n",
    "    enc = tiktoken.encoding_for_model(\"gpt-3.5-turbo\")\n",
    "    sentences = text.split(\". \")\n",
    "    chunks, current = [], \"\"\n",
    "    for sentence in sentences:\n",
    "        if len(enc.encode(current + sentence)) < max_tokens:\n",
    "            current += sentence + \". \"\n",
    "        else:\n",
    "            chunks.append(current.strip())\n",
    "            current = sentence + \". \"\n",
    "    if current:\n",
    "        chunks.append(current.strip())\n",
    "    return chunks"
   ]
  },
  {
   "cell_type": "markdown",
   "metadata": {},
   "source": [
    "## 🧠 2. BM25 Index Setup (Sparse Retrieval)"
   ]
  },
  {
   "cell_type": "code",
   "execution_count": null,
   "metadata": {},
   "outputs": [],
   "source": [
    "from rank_bm25 import BM25Okapi\n",
    "\n",
    "def build_bm25_index(chunks):\n",
    "    tokenized_corpus = [word_tokenize(doc.lower()) for doc in chunks]\n",
    "    return BM25Okapi(tokenized_corpus), tokenized_corpus"
   ]
  },
  {
   "cell_type": "markdown",
   "metadata": {},
   "source": [
    "## 🔢 3. Embedding + FAISS Vector Store (Semantic Retrieval)"
   ]
  },
  {
   "cell_type": "code",
   "execution_count": null,
   "metadata": {},
   "outputs": [],
   "source": [
    "import openai\n",
    "import numpy as np\n",
    "import faiss\n",
    "\n",
    "def embed_text(text_list, model=\"text-embedding-ada-002\"):\n",
    "    embeddings = []\n",
    "    for text in text_list:\n",
    "        resp = openai.Embedding.create(input=text, model=model)\n",
    "        embeddings.append(resp['data'][0]['embedding'])\n",
    "    return np.array(embeddings).astype(\"float32\")\n",
    "\n",
    "def build_faiss_index(embeddings):\n",
    "    dim = embeddings.shape[1]\n",
    "    index = faiss.IndexFlatL2(dim)\n",
    "    index.add(embeddings)\n",
    "    return index"
   ]
  },
  {
   "cell_type": "markdown",
   "metadata": {},
   "source": [
    "## 🔀 4. Hybrid Retrieval Logic: BM25 + Vector Weighted Combo"
   ]
  },
  {
   "cell_type": "code",
   "execution_count": null,
   "metadata": {},
   "outputs": [],
   "source": [
    "def hybrid_search(query, chunks, bm25, tokenized_corpus, faiss_index, embeddings, alpha=0.5, k=5):\n",
    "    # BM25 sparse scores\n",
    "    bm25_scores = bm25.get_scores(word_tokenize(query.lower()))\n",
    "    \n",
    "    # Vector similarity\n",
    "    q_embed = embed_text([query])\n",
    "    D, I = faiss_index.search(q_embed, len(chunks))\n",
    "    \n",
    "    # Normalize scores\n",
    "    bm25_norm = (bm25_scores - np.min(bm25_scores)) / (np.max(bm25_scores) - np.min(bm25_scores) + 1e-8)\n",
    "    sim_norm = 1 - D[0] / (np.max(D[0]) + 1e-8)\n",
    "\n",
    "    # Weighted hybrid score\n",
    "    hybrid_scores = alpha * bm25_norm + (1 - alpha) * sim_norm\n",
    "    top_indices = np.argsort(hybrid_scores)[-k:][::-1]\n",
    "    return [chunks[i] for i in top_indices]"
   ]
  },
  {
   "cell_type": "markdown",
   "metadata": {},
   "source": [
    "## ✅ 5. End-to-End Pipeline Demo"
   ]
  },
  {
   "cell_type": "code",
   "execution_count": null,
   "metadata": {},
   "outputs": [],
   "source": [
    "# full_text = \"\"\" Put your multi-paragraph document here \"\"\"\n",
    "# query = \"What is the licensing requirement?\"\n",
    "# chunks = chunk_text(full_text)\n",
    "# bm25, tokenized = build_bm25_index(chunks)\n",
    "# embeds = embed_text(chunks)\n",
    "# faiss_index = build_faiss_index(embeds)\n",
    "# top_chunks = hybrid_search(query, chunks, bm25, tokenized, faiss_index, embeds)\n",
    "# for i, chunk in enumerate(top_chunks):\n",
    "#     print(f\"--- Chunk {i+1} ---\\n{chunk}\\n\")"
   ]
  },
  {
   "cell_type": "markdown",
   "metadata": {},
   "source": [
    "## 📊 Summary: When to Use Hybrid Retrieval\n",
    "\n",
    "| Case | Sparse (BM25) | Vector | Hybrid |\n",
    "|------|----------------|--------|--------|\n",
    "| Short text / exact match | ✅ | ❌ | ✅ |\n",
    "| Long form / fuzzy match  | ❌ | ✅ | ✅ |\n",
    "| Domain-sensitive terms   | ✅ | ✅ | ✅ |\n",
    "| Noisy OCR/long docs      | ❌ | ✅ | ✅ |"
   ]
  }
 ],
 "metadata": {
  "kernelspec": {
   "display_name": "Python 3 (ipykernel)",
   "language": "python",
   "name": "python3"
  },
  "language_info": {
   "codemirror_mode": {
    "name": "ipython",
    "version": 3
   },
   "file_extension": ".py",
   "mimetype": "text/x-python",
   "name": "python",
   "nbconvert_exporter": "python",
   "pygments_lexer": "ipython3",
   "version": "3.13.2"
  }
 },
 "nbformat": 4,
 "nbformat_minor": 4
}
