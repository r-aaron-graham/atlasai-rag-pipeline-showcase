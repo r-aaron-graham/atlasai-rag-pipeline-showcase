{
 "cells": [
  {
   "cell_type": "markdown",
   "metadata": {},
   "source": [
    "# ☸️ Helm Chart for AKS Deployment of RAG Web App\n",
    "\n",
    "This notebook contains a full walkthrough to create a **Helm chart** for deploying your **Blazor/.NET RAG application** to **Azure Kubernetes Service (AKS)**.\n",
    "\n",
    "We'll build:\n",
    "- Helm directory structure\n",
    "- `values.yaml` for config management\n",
    "- Kubernetes manifests (Deployment, Service, Ingress)\n",
    "- Deployment and upgrade commands for AKS"
   ]
  },
  {
   "cell_type": "markdown",
   "metadata": {},
   "source": [
    "## 📁 Helm Chart Structure\n",
    "```bash\n",
    "rag-chart/\n",
    "├── Chart.yaml\n",
    "├── values.yaml\n",
    "└── templates/\n",
    "    ├── deployment.yaml\n",
    "    ├── service.yaml\n",
    "    └── ingress.yaml\n",
    "```"
   ]
  },
  {
   "cell_type": "code",
   "execution_count": null,
   "metadata": {},
   "outputs": [],
   "source": [
    "# Chart.yaml\n",
    "apiVersion: v2\n",
    "name: rag-web\n",
    "description: A RAG .NET/Blazor app\n",
    "version: 0.1.0\n",
    "appVersion: \"1.0.0\""
   ]
  },
  {
   "cell_type": "code",
   "execution_count": null,
   "metadata": {},
   "outputs": [],
   "source": [
    "# values.yaml\n",
    "replicaCount: 2\n",
    "image:\n",
    "  repository: youracr.azurecr.io/ragweb\n",
    "  tag: latest\n",
    "  pullPolicy: Always\n",
    "service:\n",
    "  type: LoadBalancer\n",
    "  port: 80\n",
    "ingress:\n",
    "  enabled: true\n",
    "  className: \"nginx\"\n",
    "  hosts:\n",
    "    - host: rag.example.com\n",
    "      paths:\n",
    "        - path: /\n",
    "          pathType: ImplementationSpecific\n",
    "env:\n",
    "  - name: OPENAI_API_KEY\n",
    "    value: \"your-api-key\""
   ]
  },
  {
   "cell_type": "code",
   "execution_count": null,
   "metadata": {},
   "outputs": [],
   "source": [
    "# templates/deployment.yaml\n",
    "apiVersion: apps/v1\n",
    "kind: Deployment\n",
    "metadata:\n",
    "  name: {{ .Chart.Name }}\n",
    "spec:\n",
    "  replicas: {{ .Values.replicaCount }}\n",
    "  selector:\n",
    "    matchLabels:\n",
    "      app: {{ .Chart.Name }}\n",
    "  template:\n",
    "    metadata:\n",
    "      labels:\n",
    "        app: {{ .Chart.Name }}\n",
    "    spec:\n",
    "      containers:\n",
    "        - name: {{ .Chart.Name }}\n",
    "          image: \"{{ .Values.image.repository }}:{{ .Values.image.tag }}\"\n",
    "          imagePullPolicy: {{ .Values.image.pullPolicy }}\n",
    "          env:\n",
    "            {{- toYaml .Values.env | nindent 12 }}\n",
    "          ports:\n",
    "            - containerPort: 80"
   ]
  },
  {
   "cell_type": "code",
   "execution_count": null,
   "metadata": {},
   "outputs": [],
   "source": [
    "# templates/service.yaml\n",
    "apiVersion: v1\n",
    "kind: Service\n",
    "metadata:\n",
    "  name: {{ .Chart.Name }}\n",
    "spec:\n",
    "  type: {{ .Values.service.type }}\n",
    "  selector:\n",
    "    app: {{ .Chart.Name }}\n",
    "  ports:\n",
    "    - protocol: TCP\n",
    "      port: {{ .Values.service.port }}\n",
    "      targetPort: 80"
   ]
  },
  {
   "cell_type": "code",
   "execution_count": null,
   "metadata": {},
   "outputs": [],
   "source": [
    "# templates/ingress.yaml\n",
    "apiVersion: networking.k8s.io/v1\n",
    "kind: Ingress\n",
    "metadata:\n",
    "  name: {{ .Chart.Name }}\n",
    "  annotations:\n",
    "    kubernetes.io/ingress.class: {{ .Values.ingress.className }}\n",
    "spec:\n",
    "  rules:\n",
    "    {{- range .Values.ingress.hosts }}\n",
    "    - host: {{ .host }}\n",
    "      http:\n",
    "        paths:\n",
    "          {{- range .paths }}\n",
    "          - path: {{ .path }}\n",
    "            pathType: {{ .pathType }}\n",
    "            backend:\n",
    "              service:\n",
    "                name: {{ $.Chart.Name }}\n",
    "                port:\n",
    "                  number: 80\n",
    "          {{- end }}\n",
    "    {{- end }}"
   ]
  },
  {
   "cell_type": "markdown",
   "metadata": {},
   "source": [
    "## 🚀 Deploy to AKS\n",
    "```bash\n",
    "az login\n",
    "az aks get-credentials --resource-group <your-group> --name <your-cluster>\n",
    "\n",
    "# Package and deploy\n",
    "helm install ragweb ./rag-chart --values ./rag-chart/values.yaml\n",
    "\n",
    "# Upgrade later\n",
    "helm upgrade ragweb ./rag-chart --values ./rag-chart/values.yaml\n",
    "```"
   ]
  }
 ],
 "metadata": {
  "kernelspec": {
   "display_name": "Python 3 (ipykernel)",
   "language": "python",
   "name": "python3"
  },
  "language_info": {
   "codemirror_mode": {
    "name": "ipython",
    "version": 3
   },
   "file_extension": ".py",
   "mimetype": "text/x-python",
   "name": "python",
   "nbconvert_exporter": "python",
   "pygments_lexer": "ipython3",
   "version": "3.13.2"
  }
 },
 "nbformat": 4,
 "nbformat_minor": 4
}
