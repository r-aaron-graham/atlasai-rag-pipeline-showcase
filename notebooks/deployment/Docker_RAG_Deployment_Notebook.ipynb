{
 "cells": [
  {
   "cell_type": "markdown",
   "metadata": {},
   "source": [
    "# 🐳 Dockerized RAG Deployment (C# + OpenAI + Blazor)\n",
    "\n",
    "This notebook walks through the process of containerizing the **Blazor + .NET RAG API** application and preparing it for **production deployment** using Docker.\n",
    "\n",
    "## 🎯 Components\n",
    "- C# backend with OpenAI + Lucene.NET hybrid retrieval\n",
    "- Blazor server frontend (real-time interaction)\n",
    "- Dockerfile for containerization\n",
    "- `docker-compose.yml` for orchestrating services\n",
    "- Deployment via `docker run` or remote registry\n"
   ]
  },
  {
   "cell_type": "code",
   "execution_count": null,
   "metadata": {
    "kernel": "csharp"
   },
   "outputs": [],
   "source": [
    "// 📝 Sample Dockerfile for the RAG Web App\n",
    "// Place this in the root of the RAG .NET/Blazor project\n",
    "/*\n",
    "FROM mcr.microsoft.com/dotnet/aspnet:7.0 AS base\n",
    "WORKDIR /app\n",
    "EXPOSE 80\n",
    "EXPOSE 443\n",
    "\n",
    "FROM mcr.microsoft.com/dotnet/sdk:7.0 AS build\n",
    "WORKDIR /src\n",
    "COPY [\"RAGWeb/RAGWeb.csproj\", \"RAGWeb/\"]\n",
    "RUN dotnet restore \"RAGWeb/RAGWeb.csproj\"\n",
    "COPY . .\n",
    "WORKDIR \"/src/RAGWeb\"\n",
    "RUN dotnet build \"RAGWeb.csproj\" -c Release -o /app/build\n",
    "\n",
    "FROM build AS publish\n",
    "RUN dotnet publish \"RAGWeb.csproj\" -c Release -o /app/publish\n",
    "\n",
    "FROM base AS final\n",
    "WORKDIR /app\n",
    "COPY --from=publish /app/publish .\n",
    "ENTRYPOINT [\"dotnet\", \"RAGWeb.dll\"]\n",
    "*/"
   ]
  },
  {
   "cell_type": "markdown",
   "metadata": {},
   "source": [
    "## 📦 docker-compose.yml\n",
    "For a scalable setup including API, web app, and optional vector DB."
   ]
  },
  {
   "cell_type": "code",
   "execution_count": null,
   "metadata": {},
   "outputs": [],
   "source": [
    "version: '3.8'\n",
    "services:\n",
    "  ragweb:\n",
    "    image: rag-web:latest\n",
    "    build:\n",
    "      context: .\n",
    "      dockerfile: Dockerfile\n",
    "    ports:\n",
    "      - \"8080:80\"\n",
    "    environment:\n",
    "      - OPENAI_API_KEY=your_openai_key_here\n",
    "    restart: unless-stopped"
   ]
  },
  {
   "cell_type": "markdown",
   "metadata": {},
   "source": [
    "## 🚀 Deployment Steps\n",
    "```bash\n",
    "# Step 1: Build Docker image\n",
    "docker build -t rag-web .\n",
    "\n",
    "# Step 2: Run locally\n",
    "docker run -d -p 8080:80 -e OPENAI_API_KEY=your_key rag-web\n",
    "\n",
    "# Step 3: Orchestrate with docker-compose\n",
    "docker-compose up --build\n",
    "\n",
    "# Step 4 (Optional): Push to container registry\n",
    "docker tag rag-web yourdockerhub/rag-web:latest\n",
    "docker push yourdockerhub/rag-web:latest\n",
    "```\n"
   ]
  },
  {
   "cell_type": "markdown",
   "metadata": {},
   "source": [
    "## 🔒 Production Tips\n",
    "- Use **Nginx** or **Caddy** as reverse proxy with TLS\n",
    "- Set `DOTNET_ENVIRONMENT=Production`\n",
    "- Configure secrets using Docker secrets or ENV injection\n",
    "- Monitor with Prometheus/Grafana if scaling\n",
    "- Consider deploying to Azure App Service, AWS ECS, or fly.io\n"
   ]
  }
 ],
 "metadata": {
  "kernelspec": {
   "display_name": "Python 3 (ipykernel)",
   "language": "python",
   "name": "python3"
  },
  "language_info": {
   "codemirror_mode": {
    "name": "ipython",
    "version": 3
   },
   "file_extension": ".py",
   "mimetype": "text/x-python",
   "name": "python",
   "nbconvert_exporter": "python",
   "pygments_lexer": "ipython3",
   "version": "3.13.2"
  }
 },
 "nbformat": 4,
 "nbformat_minor": 4
}
