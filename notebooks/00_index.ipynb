# AtlasAI RAG Showcase – Notebook Index

from IPython.display import Markdown, display

def link(title, path, desc):
    display(Markdown(f"### [{title}]({path})\n> {desc}\n"))

link("RAG_Pipeline_Optimization", "optimization/RAG_Pipeline_Optimization.ipynb", 
     "Refines the core pipeline structure to reduce trimming and latency.")

link("Creative_RAG_Optimization", "optimization/Creative_RAG_Optimization.ipynb",
     "Explores techniques to enhance generative diversity.")

link("Advanced_RAG_Strategies", "optimization/Advanced_RAG_Strategies.ipynb",
     "Covers advanced topics like multi-hop retrieval and LLM chunkers.")

link("LangChain + LlamaIndex Integration", "integration/LangChain_LlamaIndex_RAG_Integration.ipynb",
     "Combines LangChain orchestration with LlamaIndex memory models.")

link("Hybrid BM25 + Vector RAG", "integration/Hybrid_BM25_Vector_RAG_Integration.ipynb",
     "Implements sparse-dense retrieval with intelligent Top-K merging.")

link("FAISS Vector Search", "integration/FAISS_VectorDB_RAG_Integration.ipynb",
     "Uses FAISS for fast and efficient vector-based document retrieval.")

link("Docker Deployment", "deployment/Docker_RAG_Deployment_Notebook.ipynb",
     "Deploys the RAG stack using Docker containers.")

link("Helm on AKS", "deployment/Helm_AKS_RAG_Deployment_Notebook.ipynb",
     "Full cloud-native deployment using Helm charts on Azure Kubernetes Service.")

link("Blazor Frontend", "frontend/RAG_Blazor_Frontend_Notebook.ipynb",
     ".NET Blazor frontend integrated with the RAG backend.")

link("Azure DevOps CI/CD", "cicd/AzureDevOps_RAG_CICD_Notebook.ipynb",
     "Build pipeline automation using Azure DevOps.")

link(".NET + OpenAI Integration", "dotnet/Hybrid_RAG_DotNet_OpenAI.ipynb",
     "Implements hybrid RAG strategy in a .NET OpenAI application.")
