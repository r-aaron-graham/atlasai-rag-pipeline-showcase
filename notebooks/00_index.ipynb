{
 "cells": [
  {
   "cell_type": "markdown",
   "metadata": {},
   "source": [
    "# 📚 AtlasAI RAG Pipeline Showcase Index\n",
    "\n",
    "A curated notebook-based index to help navigate the full repository structure and showcase.\n"
   ]
  },
  {
   "cell_type": "markdown",
   "metadata": {},
   "source": [
    "## 🔧 Optimization\n",
    "- [RAG Pipeline Optimization](optimization/RAG_Pipeline_Optimization.ipynb)\n",
    "- [Creative RAG Optimization](optimization/Creative_RAG_Optimization.ipynb)\n",
    "- [Advanced RAG Strategies](optimization/Advanced_RAG_Strategies.ipynb)"
   ]
  },
  {
   "cell_type": "markdown",
   "metadata": {},
   "source": [
    "## 🔌 Integration\n",
    "- [LangChain + LlamaIndex](integration/LangChain_LlamaIndex_RAG_Integration.ipynb)\n",
    "- [Hybrid BM25 + Vector](integration/Hybrid_BM25_Vector_RAG_Integration.ipynb)\n",
    "- [FAISS VectorDB Integration](integration/FAISS_VectorDB_RAG_Integration.ipynb)"
   ]
  },
  {
   "cell_type": "markdown",
   "metadata": {},
   "source": [
    "## 🚀 Deployment\n",
    "- [Docker Deployment](deployment/Docker_RAG_Deployment_Notebook.ipynb)\n",
    "- [Helm / AKS Deployment](deployment/Helm_AKS_RAG_Deployment_Notebook.ipynb)"
   ]
  },
  {
   "cell_type": "markdown",
   "metadata": {},
   "source": [
    "## 💻 Frontend\n",
    "- [.NET Blazor Frontend](frontend/RAG_Blazor_Frontend_Notebook.ipynb)"
   ]
  },
  {
   "cell_type": "markdown",
   "metadata": {},
   "source": [
    "## 🔁 CI/CD\n",
    "- [Azure DevOps Pipeline](cicd/AzureDevOps_RAG_CICD_Notebook.ipynb)"
   ]
  },
  {
   "cell_type": "markdown",
   "metadata": {},
   "source": [
    "## 🧬 Hybrid / .NET\n",
    "- [Hybrid RAG (.NET + OpenAI)](dotnet/Hybrid_RAG_DotNet_OpenAI.ipynb)"
   ]
  }
 ],
 "metadata": {
  "kernelspec": {
   "display_name": "Python 3",
   "language": "python",
   "name": "python3"
  },
  "language_info": {
   "name": "python",
   "version": ""
  }
 },
 "nbformat": 4,
 "nbformat_minor": 2
}
