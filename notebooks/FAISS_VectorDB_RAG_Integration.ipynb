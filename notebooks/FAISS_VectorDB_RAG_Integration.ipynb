{
 "cells": [
  {
   "cell_type": "markdown",
   "metadata": {},
   "source": [
    "# 🔍 FAISS + Vector DB Integration for RAG Pipelines\n",
    "\n",
    "This notebook demonstrates how to:\n",
    "- Preprocess and chunk documents\n",
    "- Generate embeddings using OpenAI\n",
    "- Store and search with FAISS (Facebook AI Similarity Search)\n",
    "- Retrieve relevant chunks for RAG pipelines\n",
    "\n",
    "🔧 Libraries: `faiss`, `openai`, `tiktoken`, `numpy`\n",
    "⚠️ Install missing packages using `!pip install` if needed."
   ]
  },
  {
   "cell_type": "code",
   "execution_count": null,
   "metadata": {},
   "outputs": [],
   "source": [
    "# !pip install faiss-cpu openai tiktoken numpy"
   ]
  },
  {
   "cell_type": "markdown",
   "metadata": {},
   "source": [
    "## 1️⃣ Preprocess and Chunk the Input Text"
   ]
  },
  {
   "cell_type": "code",
   "execution_count": null,
   "metadata": {},
   "outputs": [],
   "source": [
    "import tiktoken\n",
    "import numpy as np\n",
    "\n",
    "def chunk_text(text, max_tokens=250):\n",
    "    enc = tiktoken.encoding_for_model(\"gpt-4\")\n",
    "    sentences = text.split(\". \")\n",
    "    chunks, current = [], \"\"\n",
    "    for sentence in sentences:\n",
    "        if len(enc.encode(current + sentence)) < max_tokens:\n",
    "            current += sentence + \". \"\n",
    "        else:\n",
    "            chunks.append(current.strip())\n",
    "            current = sentence + \". \"\n",
    "    if current:\n",
    "        chunks.append(current.strip())\n",
    "    return chunks"
   ]
  },
  {
   "cell_type": "markdown",
   "metadata": {},
   "source": [
    "## 2️⃣ Generate Embeddings with OpenAI"
   ]
  },
  {
   "cell_type": "code",
   "execution_count": null,
   "metadata": {},
   "outputs": [],
   "source": [
    "import openai\n",
    "\n",
    "def embed_text(text_list, model=\"text-embedding-ada-002\"):\n",
    "    embeddings = []\n",
    "    for text in text_list:\n",
    "        resp = openai.Embedding.create(input=text, model=model)\n",
    "        vector = resp[\"data\"][0][\"embedding\"]\n",
    "        embeddings.append(vector)\n",
    "    return np.array(embeddings).astype(\"float32\")"
   ]
  },
  {
   "cell_type": "markdown",
   "metadata": {},
   "source": [
    "## 3️⃣ Create FAISS Index and Store Embeddings"
   ]
  },
  {
   "cell_type": "code",
   "execution_count": null,
   "metadata": {},
   "outputs": [],
   "source": [
    "import faiss\n",
    "\n",
    "def build_faiss_index(vectors):\n",
    "    dim = vectors.shape[1]\n",
    "    index = faiss.IndexFlatL2(dim)\n",
    "    index.add(vectors)\n",
    "    return index"
   ]
  },
  {
   "cell_type": "markdown",
   "metadata": {},
   "source": [
    "## 4️⃣ Perform Semantic Search\n",
    "Query is embedded and searched against the FAISS index."
   ]
  },
  {
   "cell_type": "code",
   "execution_count": null,
   "metadata": {},
   "outputs": [],
   "source": [
    "def search_faiss(query, chunks, index, all_embeddings, k=3):\n",
    "    query_embed = embed_text([query])\n",
    "    D, I = index.search(query_embed, k)\n",
    "    return [chunks[i] for i in I[0]]"
   ]
  },
  {
   "cell_type": "markdown",
   "metadata": {},
   "source": [
    "## 5️⃣ End-to-End Demo Function\n",
    "Processes a document and returns top chunks based on query."
   ]
  },
  {
   "cell_type": "code",
   "execution_count": null,
   "metadata": {},
   "outputs": [],
   "source": [
    "def rag_faiss_pipeline(full_text, user_query):\n",
    "    chunks = chunk_text(full_text)\n",
    "    vectors = embed_text(chunks)\n",
    "    index = build_faiss_index(vectors)\n",
    "    return search_faiss(user_query, chunks, index, vectors)"
   ]
  },
  {
   "cell_type": "markdown",
   "metadata": {},
   "source": [
    "## ✅ Summary: Benefits of FAISS Integration\n",
    "\n",
    "| Feature        | Benefit                          |\n",
    "|----------------|-----------------------------------|\n",
    "| Fast search    | Scales to millions of vectors     |\n",
    "| Cost control   | Reduces token input to GPT calls  |\n",
    "| Precision      | Finds semantically relevant chunks|\n",
    "| Integration    | Works with LangChain, LlamaIndex  |"
   ]
  }
 ],
 "metadata": {
  "kernelspec": {
   "display_name": "Python 3 (ipykernel)",
   "language": "python",
   "name": "python3"
  },
  "language_info": {
   "codemirror_mode": {
    "name": "ipython",
    "version": 3
   },
   "file_extension": ".py",
   "mimetype": "text/x-python",
   "name": "python",
   "nbconvert_exporter": "python",
   "pygments_lexer": "ipython3",
   "version": "3.13.2"
  }
 },
 "nbformat": 4,
 "nbformat_minor": 4
}
